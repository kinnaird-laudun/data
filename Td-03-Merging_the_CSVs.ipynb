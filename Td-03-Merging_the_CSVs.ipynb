{
 "cells": [
  {
   "cell_type": "markdown",
   "metadata": {
    "button": false,
    "new_sheet": false,
    "run_control": {
     "read_only": false
    }
   },
   "source": [
    "## Merging the CSVs\n",
    "\n",
    "In this notebook we are going to merge the CSV exported from the Google Drive list with the CSV we created from the transcripts. The first thing I want to do is compare the two columns of the two CSVs:"
   ]
  },
  {
   "cell_type": "markdown",
   "metadata": {},
   "source": [
    "### Load the CSVs"
   ]
  },
  {
   "cell_type": "code",
   "execution_count": 1,
   "metadata": {
    "button": false,
    "new_sheet": false,
    "run_control": {
     "read_only": false
    }
   },
   "outputs": [
    {
     "name": "stdout",
     "output_type": "stream",
     "text": [
      "['public_url', 'speaker', 'duration', 'uploaded', 'views', 'description', 'text']\n",
      "['Talk ID', 'public_url', 'speaker_name', 'headline', 'description', 'event', 'duration', 'language', 'published', 'tags']\n"
     ]
    }
   ],
   "source": [
    "# =-=-=-=-=-=-=-=-=-=-=\n",
    "# LOAD the CSVs into dataframes to check our work\n",
    "# =-=-=-=-=-=-=-=-=-=-= \n",
    "\n",
    "# Let python create the column names list:\n",
    "with open('./transcripts.csv') as f:\n",
    "    t_colnames = f.readline().strip().split(\",\")\n",
    "\n",
    "with open('./Google_list.csv') as f:\n",
    "    G_colnames = f.readline().strip().split(\",\")\n",
    "\n",
    "print(t_colnames)\n",
    "print(G_colnames)"
   ]
  },
  {
   "cell_type": "markdown",
   "metadata": {
    "button": false,
    "new_sheet": false,
    "run_control": {
     "read_only": false
    }
   },
   "source": [
    "Next will take a look at the first few entries for those two CSVs:"
   ]
  },
  {
   "cell_type": "code",
   "execution_count": 3,
   "metadata": {
    "button": false,
    "new_sheet": false,
    "run_control": {
     "read_only": false
    }
   },
   "outputs": [
    {
     "data": {
      "text/html": [
       "<div>\n",
       "<style scoped>\n",
       "    .dataframe tbody tr th:only-of-type {\n",
       "        vertical-align: middle;\n",
       "    }\n",
       "\n",
       "    .dataframe tbody tr th {\n",
       "        vertical-align: top;\n",
       "    }\n",
       "\n",
       "    .dataframe thead th {\n",
       "        text-align: right;\n",
       "    }\n",
       "</style>\n",
       "<table border=\"1\" class=\"dataframe\">\n",
       "  <thead>\n",
       "    <tr style=\"text-align: right;\">\n",
       "      <th></th>\n",
       "      <th>Talk ID</th>\n",
       "      <th>public_url</th>\n",
       "      <th>speaker_name</th>\n",
       "      <th>headline</th>\n",
       "      <th>description</th>\n",
       "      <th>event</th>\n",
       "      <th>duration</th>\n",
       "      <th>language</th>\n",
       "      <th>published</th>\n",
       "      <th>tags</th>\n",
       "    </tr>\n",
       "  </thead>\n",
       "  <tbody>\n",
       "    <tr>\n",
       "      <th>0</th>\n",
       "      <td>1</td>\n",
       "      <td>https://www.ted.com/talks/al_gore_on_averting_...</td>\n",
       "      <td>Al Gore</td>\n",
       "      <td>Averting the climate crisis</td>\n",
       "      <td>With the same humor and humanity he exuded in ...</td>\n",
       "      <td>TED2006</td>\n",
       "      <td>0:16:17</td>\n",
       "      <td>en</td>\n",
       "      <td>6/27/06</td>\n",
       "      <td>alternative energy,cars,global issues,climate ...</td>\n",
       "    </tr>\n",
       "    <tr>\n",
       "      <th>1</th>\n",
       "      <td>7</td>\n",
       "      <td>https://www.ted.com/talks/david_pogue_says_sim...</td>\n",
       "      <td>David Pogue</td>\n",
       "      <td>Simplicity sells</td>\n",
       "      <td>New York Times columnist David Pogue takes aim...</td>\n",
       "      <td>TED2006</td>\n",
       "      <td>0:21:26</td>\n",
       "      <td>en</td>\n",
       "      <td>6/27/06</td>\n",
       "      <td>simplicity,entertainment,interface design,soft...</td>\n",
       "    </tr>\n",
       "    <tr>\n",
       "      <th>2</th>\n",
       "      <td>53</td>\n",
       "      <td>https://www.ted.com/talks/majora_carter_s_tale...</td>\n",
       "      <td>Majora Carter</td>\n",
       "      <td>Greening the ghetto</td>\n",
       "      <td>In an emotionally charged talk, MacArthur-winn...</td>\n",
       "      <td>TED2006</td>\n",
       "      <td>0:18:36</td>\n",
       "      <td>en</td>\n",
       "      <td>6/27/06</td>\n",
       "      <td>MacArthur grant,cities,green,activism,politics...</td>\n",
       "    </tr>\n",
       "    <tr>\n",
       "      <th>3</th>\n",
       "      <td>66</td>\n",
       "      <td>https://www.ted.com/talks/ken_robinson_says_sc...</td>\n",
       "      <td>Ken Robinson</td>\n",
       "      <td>Do schools kill creativity?</td>\n",
       "      <td>Sir Ken Robinson makes an entertaining and pro...</td>\n",
       "      <td>TED2006</td>\n",
       "      <td>0:19:24</td>\n",
       "      <td>en</td>\n",
       "      <td>6/27/06</td>\n",
       "      <td>children,teaching,creativity,parenting,culture...</td>\n",
       "    </tr>\n",
       "    <tr>\n",
       "      <th>4</th>\n",
       "      <td>92</td>\n",
       "      <td>https://www.ted.com/talks/hans_rosling_shows_t...</td>\n",
       "      <td>Hans Rosling</td>\n",
       "      <td>The best stats you've ever seen</td>\n",
       "      <td>You've never seen data presented like this. Wi...</td>\n",
       "      <td>TED2006</td>\n",
       "      <td>0:19:50</td>\n",
       "      <td>en</td>\n",
       "      <td>6/27/06</td>\n",
       "      <td>demo,Asia,global issues,visualizations,global ...</td>\n",
       "    </tr>\n",
       "  </tbody>\n",
       "</table>\n",
       "</div>"
      ],
      "text/plain": [
       "   Talk ID                                         public_url   speaker_name  \\\n",
       "0        1  https://www.ted.com/talks/al_gore_on_averting_...        Al Gore   \n",
       "1        7  https://www.ted.com/talks/david_pogue_says_sim...    David Pogue   \n",
       "2       53  https://www.ted.com/talks/majora_carter_s_tale...  Majora Carter   \n",
       "3       66  https://www.ted.com/talks/ken_robinson_says_sc...   Ken Robinson   \n",
       "4       92  https://www.ted.com/talks/hans_rosling_shows_t...   Hans Rosling   \n",
       "\n",
       "                          headline  \\\n",
       "0      Averting the climate crisis   \n",
       "1                 Simplicity sells   \n",
       "2              Greening the ghetto   \n",
       "3      Do schools kill creativity?   \n",
       "4  The best stats you've ever seen   \n",
       "\n",
       "                                         description    event duration  \\\n",
       "0  With the same humor and humanity he exuded in ...  TED2006  0:16:17   \n",
       "1  New York Times columnist David Pogue takes aim...  TED2006  0:21:26   \n",
       "2  In an emotionally charged talk, MacArthur-winn...  TED2006  0:18:36   \n",
       "3  Sir Ken Robinson makes an entertaining and pro...  TED2006  0:19:24   \n",
       "4  You've never seen data presented like this. Wi...  TED2006  0:19:50   \n",
       "\n",
       "  language published                                               tags  \n",
       "0       en   6/27/06  alternative energy,cars,global issues,climate ...  \n",
       "1       en   6/27/06  simplicity,entertainment,interface design,soft...  \n",
       "2       en   6/27/06  MacArthur grant,cities,green,activism,politics...  \n",
       "3       en   6/27/06  children,teaching,creativity,parenting,culture...  \n",
       "4       en   6/27/06  demo,Asia,global issues,visualizations,global ...  "
      ]
     },
     "execution_count": 3,
     "metadata": {},
     "output_type": "execute_result"
    }
   ],
   "source": [
    "import pandas as pd\n",
    "\n",
    "google_list = pd.read_csv('./Google_list_as_of_2018-05-29.csv')\n",
    "transcripts = pd.read_csv('./transcripts.csv')\n",
    "\n",
    "google_list.head()"
   ]
  },
  {
   "cell_type": "code",
   "execution_count": 4,
   "metadata": {
    "button": false,
    "new_sheet": false,
    "run_control": {
     "read_only": false
    }
   },
   "outputs": [
    {
     "data": {
      "text/html": [
       "<div>\n",
       "<style scoped>\n",
       "    .dataframe tbody tr th:only-of-type {\n",
       "        vertical-align: middle;\n",
       "    }\n",
       "\n",
       "    .dataframe tbody tr th {\n",
       "        vertical-align: top;\n",
       "    }\n",
       "\n",
       "    .dataframe thead th {\n",
       "        text-align: right;\n",
       "    }\n",
       "</style>\n",
       "<table border=\"1\" class=\"dataframe\">\n",
       "  <thead>\n",
       "    <tr style=\"text-align: right;\">\n",
       "      <th></th>\n",
       "      <th>public_url</th>\n",
       "      <th>speaker</th>\n",
       "      <th>duration</th>\n",
       "      <th>uploaded</th>\n",
       "      <th>views</th>\n",
       "      <th>description</th>\n",
       "      <th>text</th>\n",
       "    </tr>\n",
       "  </thead>\n",
       "  <tbody>\n",
       "    <tr>\n",
       "      <th>0</th>\n",
       "      <td>https://www.ted.com/talks/courtney_martin_the_...</td>\n",
       "      <td>Courtney E. Martin</td>\n",
       "      <td>PT15M32S</td>\n",
       "      <td>2016-09-07T14:52:02+00:00</td>\n",
       "      <td>1508852</td>\n",
       "      <td>For the first time in history, the majority of...</td>\n",
       "      <td>I'm a journalist, so I like to look for the ...</td>\n",
       "    </tr>\n",
       "    <tr>\n",
       "      <th>1</th>\n",
       "      <td>https://www.ted.com/talks/kiran_bedi_a_police_...</td>\n",
       "      <td>Kiran Bedi</td>\n",
       "      <td>PT8M47S</td>\n",
       "      <td>2010-12-13T16:09:51+00:00</td>\n",
       "      <td>957684</td>\n",
       "      <td>Kiran Bedi has a surprising resume. Before bec...</td>\n",
       "      <td>Now I'm going to give you a story. It's an I...</td>\n",
       "    </tr>\n",
       "    <tr>\n",
       "      <th>2</th>\n",
       "      <td>https://www.ted.com/talks/tom_chatfield_7_ways...</td>\n",
       "      <td>Tom Chatfield</td>\n",
       "      <td>PT16M28S</td>\n",
       "      <td>2010-11-01T09:17:00+00:00</td>\n",
       "      <td>1061370</td>\n",
       "      <td>We're bringing gameplay into more aspects of o...</td>\n",
       "      <td>I love video games. I'm also slightly in awe...</td>\n",
       "    </tr>\n",
       "    <tr>\n",
       "      <th>3</th>\n",
       "      <td>https://www.ted.com/talks/mundano_pimp_my_tras...</td>\n",
       "      <td>Mundano</td>\n",
       "      <td>PT5M22S</td>\n",
       "      <td>2014-12-19T16:18:48+00:00</td>\n",
       "      <td>986242</td>\n",
       "      <td>In Brazil, \"catadores\" collect junk and recycl...</td>\n",
       "      <td>Our world has many superheroes. But they hav...</td>\n",
       "    </tr>\n",
       "    <tr>\n",
       "      <th>4</th>\n",
       "      <td>https://www.ted.com/talks/sunitha_krishnan_ted...</td>\n",
       "      <td>Sunitha Krishnan</td>\n",
       "      <td>PT12M42S</td>\n",
       "      <td>2009-12-07T01:00:00+00:00</td>\n",
       "      <td>2610947</td>\n",
       "      <td>Sunitha Krishnan has dedicated her life to res...</td>\n",
       "      <td>I'm talking to you about the worst form of h...</td>\n",
       "    </tr>\n",
       "  </tbody>\n",
       "</table>\n",
       "</div>"
      ],
      "text/plain": [
       "                                          public_url             speaker  \\\n",
       "0  https://www.ted.com/talks/courtney_martin_the_...  Courtney E. Martin   \n",
       "1  https://www.ted.com/talks/kiran_bedi_a_police_...          Kiran Bedi   \n",
       "2  https://www.ted.com/talks/tom_chatfield_7_ways...       Tom Chatfield   \n",
       "3  https://www.ted.com/talks/mundano_pimp_my_tras...             Mundano   \n",
       "4  https://www.ted.com/talks/sunitha_krishnan_ted...    Sunitha Krishnan   \n",
       "\n",
       "   duration                   uploaded    views  \\\n",
       "0  PT15M32S  2016-09-07T14:52:02+00:00  1508852   \n",
       "1   PT8M47S  2010-12-13T16:09:51+00:00   957684   \n",
       "2  PT16M28S  2010-11-01T09:17:00+00:00  1061370   \n",
       "3   PT5M22S  2014-12-19T16:18:48+00:00   986242   \n",
       "4  PT12M42S  2009-12-07T01:00:00+00:00  2610947   \n",
       "\n",
       "                                         description  \\\n",
       "0  For the first time in history, the majority of...   \n",
       "1  Kiran Bedi has a surprising resume. Before bec...   \n",
       "2  We're bringing gameplay into more aspects of o...   \n",
       "3  In Brazil, \"catadores\" collect junk and recycl...   \n",
       "4  Sunitha Krishnan has dedicated her life to res...   \n",
       "\n",
       "                                                text  \n",
       "0    I'm a journalist, so I like to look for the ...  \n",
       "1    Now I'm going to give you a story. It's an I...  \n",
       "2    I love video games. I'm also slightly in awe...  \n",
       "3    Our world has many superheroes. But they hav...  \n",
       "4    I'm talking to you about the worst form of h...  "
      ]
     },
     "execution_count": 4,
     "metadata": {},
     "output_type": "execute_result"
    }
   ],
   "source": [
    "transcripts.head()"
   ]
  },
  {
   "cell_type": "markdown",
   "metadata": {},
   "source": [
    "## Merge the CSVs"
   ]
  },
  {
   "cell_type": "markdown",
   "metadata": {
    "button": false,
    "new_sheet": false,
    "run_control": {
     "read_only": false
    }
   },
   "source": [
    "Now, let's see about merging these two into a new dataframe. *One CSV to rule them all!*\n",
    "\n",
    "The [docs][] report this syntax:\n",
    "\n",
    "    pd.merge(left, right, how='inner', on=None, left_on=None, right_on=None,\n",
    "         left_index=False, right_index=False, sort=True,\n",
    "         suffixes=('_x', '_y'), copy=True, indicator=False,\n",
    "         validate=None)\n",
    "\n",
    "\n",
    "\n",
    "[docs]: https://pandas.pydata.org/pandas-docs/stable/merging.html#database-style-dataframe-joining-merging"
   ]
  },
  {
   "cell_type": "code",
   "execution_count": 4,
   "metadata": {
    "button": false,
    "collapsed": true,
    "new_sheet": false,
    "run_control": {
     "read_only": false
    }
   },
   "outputs": [],
   "source": [
    "one_ring = pandas.merge(google_list, transcripts, on='public_url')"
   ]
  },
  {
   "cell_type": "code",
   "execution_count": 5,
   "metadata": {
    "button": false,
    "new_sheet": false,
    "run_control": {
     "read_only": false
    }
   },
   "outputs": [
    {
     "data": {
      "text/html": [
       "<div>\n",
       "<table border=\"1\" class=\"dataframe\">\n",
       "  <thead>\n",
       "    <tr style=\"text-align: right;\">\n",
       "      <th></th>\n",
       "      <th>Talk ID</th>\n",
       "      <th>public_url</th>\n",
       "      <th>speaker_name</th>\n",
       "      <th>headline</th>\n",
       "      <th>description_x</th>\n",
       "      <th>event</th>\n",
       "      <th>duration_x</th>\n",
       "      <th>language</th>\n",
       "      <th>published</th>\n",
       "      <th>tags</th>\n",
       "      <th>speaker</th>\n",
       "      <th>duration_y</th>\n",
       "      <th>uploaded</th>\n",
       "      <th>views</th>\n",
       "      <th>description_y</th>\n",
       "      <th>text</th>\n",
       "    </tr>\n",
       "  </thead>\n",
       "  <tbody>\n",
       "    <tr>\n",
       "      <th>0</th>\n",
       "      <td>Talk ID</td>\n",
       "      <td>public_url</td>\n",
       "      <td>speaker_name</td>\n",
       "      <td>headline</td>\n",
       "      <td>description</td>\n",
       "      <td>event</td>\n",
       "      <td>duration</td>\n",
       "      <td>language</td>\n",
       "      <td>published</td>\n",
       "      <td>tags</td>\n",
       "      <td>speaker</td>\n",
       "      <td>duration</td>\n",
       "      <td>uploaded</td>\n",
       "      <td>views</td>\n",
       "      <td>description</td>\n",
       "      <td>text</td>\n",
       "    </tr>\n",
       "    <tr>\n",
       "      <th>1</th>\n",
       "      <td>1</td>\n",
       "      <td>https://www.ted.com/talks/al_gore_on_averting_...</td>\n",
       "      <td>Al Gore</td>\n",
       "      <td>Averting the climate crisis</td>\n",
       "      <td>With the same humor and humanity he exuded in ...</td>\n",
       "      <td>TED2006</td>\n",
       "      <td>0:16:17</td>\n",
       "      <td>en</td>\n",
       "      <td>6/27/06</td>\n",
       "      <td>alternative energy,cars,global issues,climate ...</td>\n",
       "      <td>Al Gore</td>\n",
       "      <td>PT16M17S</td>\n",
       "      <td>2006-06-27T00:11:00+00:00</td>\n",
       "      <td>3266733</td>\n",
       "      <td>With the same humor and humanity he exuded in ...</td>\n",
       "      <td>Thank you so much, Chris. And it's truly a g...</td>\n",
       "    </tr>\n",
       "    <tr>\n",
       "      <th>2</th>\n",
       "      <td>7</td>\n",
       "      <td>https://www.ted.com/talks/david_pogue_says_sim...</td>\n",
       "      <td>David Pogue</td>\n",
       "      <td>Simplicity sells</td>\n",
       "      <td>New York Times columnist David Pogue takes aim...</td>\n",
       "      <td>TED2006</td>\n",
       "      <td>0:21:26</td>\n",
       "      <td>en</td>\n",
       "      <td>6/27/06</td>\n",
       "      <td>simplicity,entertainment,interface design,soft...</td>\n",
       "      <td>David Pogue</td>\n",
       "      <td>PT21M26S</td>\n",
       "      <td>2006-06-27T00:11:00+00:00</td>\n",
       "      <td>1702201</td>\n",
       "      <td>New York Times columnist David Pogue takes aim...</td>\n",
       "      <td>(Music: \"The Sound of Silence,\" Simon &amp; Garf...</td>\n",
       "    </tr>\n",
       "    <tr>\n",
       "      <th>3</th>\n",
       "      <td>53</td>\n",
       "      <td>https://www.ted.com/talks/majora_carter_s_tale...</td>\n",
       "      <td>Majora Carter</td>\n",
       "      <td>Greening the ghetto</td>\n",
       "      <td>In an emotionally charged talk, MacArthur-winn...</td>\n",
       "      <td>TED2006</td>\n",
       "      <td>0:18:36</td>\n",
       "      <td>en</td>\n",
       "      <td>6/27/06</td>\n",
       "      <td>MacArthur grant,cities,green,activism,politics...</td>\n",
       "      <td>Majora Carter</td>\n",
       "      <td>PT18M36S</td>\n",
       "      <td>2006-06-27T00:11:00+00:00</td>\n",
       "      <td>2000421</td>\n",
       "      <td>In an emotionally charged talk, MacArthur-winn...</td>\n",
       "      <td>If you're here today — and I'm very happy th...</td>\n",
       "    </tr>\n",
       "    <tr>\n",
       "      <th>4</th>\n",
       "      <td>66</td>\n",
       "      <td>https://www.ted.com/talks/ken_robinson_says_sc...</td>\n",
       "      <td>Ken Robinson</td>\n",
       "      <td>Do schools kill creativity?</td>\n",
       "      <td>Sir Ken Robinson makes an entertaining and pro...</td>\n",
       "      <td>TED2006</td>\n",
       "      <td>0:19:24</td>\n",
       "      <td>en</td>\n",
       "      <td>6/27/06</td>\n",
       "      <td>children,teaching,creativity,parenting,culture...</td>\n",
       "      <td>Ken Robinson</td>\n",
       "      <td>PT19M24S</td>\n",
       "      <td>2006-06-27T00:11:00+00:00</td>\n",
       "      <td>51614087</td>\n",
       "      <td>Sir Ken Robinson makes an entertaining and pro...</td>\n",
       "      <td>Good morning. How are you?    (Laughter)    ...</td>\n",
       "    </tr>\n",
       "  </tbody>\n",
       "</table>\n",
       "</div>"
      ],
      "text/plain": [
       "   Talk ID                                         public_url   speaker_name  \\\n",
       "0  Talk ID                                         public_url   speaker_name   \n",
       "1        1  https://www.ted.com/talks/al_gore_on_averting_...        Al Gore   \n",
       "2        7  https://www.ted.com/talks/david_pogue_says_sim...    David Pogue   \n",
       "3       53  https://www.ted.com/talks/majora_carter_s_tale...  Majora Carter   \n",
       "4       66  https://www.ted.com/talks/ken_robinson_says_sc...   Ken Robinson   \n",
       "\n",
       "                      headline  \\\n",
       "0                     headline   \n",
       "1  Averting the climate crisis   \n",
       "2             Simplicity sells   \n",
       "3          Greening the ghetto   \n",
       "4  Do schools kill creativity?   \n",
       "\n",
       "                                       description_x    event duration_x  \\\n",
       "0                                        description    event   duration   \n",
       "1  With the same humor and humanity he exuded in ...  TED2006    0:16:17   \n",
       "2  New York Times columnist David Pogue takes aim...  TED2006    0:21:26   \n",
       "3  In an emotionally charged talk, MacArthur-winn...  TED2006    0:18:36   \n",
       "4  Sir Ken Robinson makes an entertaining and pro...  TED2006    0:19:24   \n",
       "\n",
       "   language  published                                               tags  \\\n",
       "0  language  published                                               tags   \n",
       "1        en    6/27/06  alternative energy,cars,global issues,climate ...   \n",
       "2        en    6/27/06  simplicity,entertainment,interface design,soft...   \n",
       "3        en    6/27/06  MacArthur grant,cities,green,activism,politics...   \n",
       "4        en    6/27/06  children,teaching,creativity,parenting,culture...   \n",
       "\n",
       "         speaker duration_y                   uploaded     views  \\\n",
       "0        speaker   duration                   uploaded     views   \n",
       "1        Al Gore   PT16M17S  2006-06-27T00:11:00+00:00   3266733   \n",
       "2    David Pogue   PT21M26S  2006-06-27T00:11:00+00:00   1702201   \n",
       "3  Majora Carter   PT18M36S  2006-06-27T00:11:00+00:00   2000421   \n",
       "4   Ken Robinson   PT19M24S  2006-06-27T00:11:00+00:00  51614087   \n",
       "\n",
       "                                       description_y  \\\n",
       "0                                        description   \n",
       "1  With the same humor and humanity he exuded in ...   \n",
       "2  New York Times columnist David Pogue takes aim...   \n",
       "3  In an emotionally charged talk, MacArthur-winn...   \n",
       "4  Sir Ken Robinson makes an entertaining and pro...   \n",
       "\n",
       "                                                text  \n",
       "0                                               text  \n",
       "1    Thank you so much, Chris. And it's truly a g...  \n",
       "2    (Music: \"The Sound of Silence,\" Simon & Garf...  \n",
       "3    If you're here today — and I'm very happy th...  \n",
       "4    Good morning. How are you?    (Laughter)    ...  "
      ]
     },
     "execution_count": 5,
     "metadata": {},
     "output_type": "execute_result"
    }
   ],
   "source": [
    "one_ring.head()"
   ]
  },
  {
   "cell_type": "markdown",
   "metadata": {
    "button": false,
    "new_sheet": false,
    "run_control": {
     "read_only": false
    }
   },
   "source": [
    "And now to save to a CSV:"
   ]
  },
  {
   "cell_type": "code",
   "execution_count": 6,
   "metadata": {
    "button": false,
    "collapsed": true,
    "new_sheet": false,
    "run_control": {
     "read_only": false
    }
   },
   "outputs": [],
   "source": [
    "one_ring.to_csv('./TEDtalks_all.csv', index = False)"
   ]
  },
  {
   "cell_type": "markdown",
   "metadata": {
    "button": false,
    "new_sheet": false,
    "run_control": {
     "read_only": false
    }
   },
   "source": [
    "After the CSV file was written, I edited out the second line, which was a duplicate header list, with the headers from the original CSVs. "
   ]
  },
  {
   "cell_type": "markdown",
   "metadata": {},
   "source": [
    "## Compare the CSVs"
   ]
  },
  {
   "cell_type": "markdown",
   "metadata": {},
   "source": [
    "It looks like the `transcripts` CSV contains 30 fewer talks, let's see if we can find out what those are.\n",
    "\n",
    "The 30 fewer lines are lines I edited out."
   ]
  }
 ],
 "metadata": {
  "kernelspec": {
   "display_name": "Python 3",
   "language": "python",
   "name": "python3"
  },
  "language_info": {
   "codemirror_mode": {
    "name": "ipython",
    "version": 3
   },
   "file_extension": ".py",
   "mimetype": "text/x-python",
   "name": "python",
   "nbconvert_exporter": "python",
   "pygments_lexer": "ipython3",
   "version": "3.6.7"
  }
 },
 "nbformat": 4,
 "nbformat_minor": 2
}
